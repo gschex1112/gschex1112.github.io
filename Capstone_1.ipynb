{
  "nbformat": 4,
  "nbformat_minor": 0,
  "metadata": {
    "colab": {
      "name": "Capstone 1.ipynb",
      "provenance": [],
      "toc_visible": true
    },
    "kernelspec": {
      "name": "python3",
      "display_name": "Python 3"
    }
  },
  "cells": [
    {
      "cell_type": "markdown",
      "metadata": {
        "id": "8Q2vCVXU5DBk",
        "colab_type": "text"
      },
      "source": [
        "# **Differences in Squirrel Behavior by Fur Color in Central Park**\n",
        "\n",
        "This research will be testing the hypothesis that there is no difference between Eastern gray squirrels (*Sciurus carolinensis*) in New York City’s Central Park with different primary fur colors with regards to their willingness to approach humans. The dataset comprises 3,023 rows, each representing an individual squirrel, and I will be looking at four of the 31 columns in the dataset (primary fur color, approaches, indifferent, and runs from). It was collected in October 2018 by the Squirrel Census, with the help of 323 volunteer Squirrel Sighters, as well as The Explorers Club, NYU Department of Environmental Studies, Macaulay Honors College, the Central Park Conservancy, and New York City Department of Parks & Recreation. It is located at https://data.cityofnewyork.us/Environment/2018-Squirrel-Census-Fur-Color-Map/fak5-wcft."
      ]
    },
    {
      "cell_type": "markdown",
      "metadata": {
        "id": "Qhjsy6BBbx-K",
        "colab_type": "text"
      },
      "source": [
        "### **Methodology**\n",
        "\n",
        "I will first explore the data through descriptive statistics and data visualizations, such as mean, standard deviation, inter-quartile range, and box plots. From there I will conduct a series of pairwise t-tests to test the hypothesis that there is no difference in the Eastern gray squrirrel population between different fur colors in how willing they are to approach humans."
      ]
    },
    {
      "cell_type": "markdown",
      "metadata": {
        "id": "ip9W2Qsf5C93",
        "colab_type": "text"
      },
      "source": [
        "### **Audience**\n",
        "\n",
        "This study will be of interest to anyone who would like to understand more about the Eastern gray squirrel, including biologists who might want to see what role fur color might play in their evolution. A correlation between fur color and willingness to approach humans could mean something about how fur color was selected for by the environment, which would lead to interesting questions about what factors would be involved."
      ]
    },
    {
      "cell_type": "code",
      "metadata": {
        "id": "zI4kHT3D4vj9",
        "colab_type": "code",
        "outputId": "ea077fd3-4943-4f39-f8d6-b2eed67f96f5",
        "colab": {
          "base_uri": "https://localhost:8080/",
          "height": 1000
        }
      },
      "source": [
        "# Import dependencies and read in the data.\n",
        "\n",
        "import pandas\n",
        "import numpy\n",
        "from matplotlib import pyplot\n",
        "from scipy import stats\n",
        "import math\n",
        "\n",
        "squirrels = pandas.read_csv('2018_Central_Park_Squirrel_Census_-_Squirrel_Data.csv')\n",
        "\n",
        "# Get information about the data\n",
        "\n",
        "squirrels.info()\n",
        "squirrels.head()"
      ],
      "execution_count": 0,
      "outputs": [
        {
          "output_type": "stream",
          "text": [
            "<class 'pandas.core.frame.DataFrame'>\n",
            "RangeIndex: 3023 entries, 0 to 3022\n",
            "Data columns (total 36 columns):\n",
            "X                                             3023 non-null float64\n",
            "Y                                             3023 non-null float64\n",
            "Unique Squirrel ID                            3023 non-null object\n",
            "Hectare                                       3023 non-null object\n",
            "Shift                                         3023 non-null object\n",
            "Date                                          3023 non-null int64\n",
            "Hectare Squirrel Number                       3023 non-null int64\n",
            "Age                                           2902 non-null object\n",
            "Primary Fur Color                             2968 non-null object\n",
            "Highlight Fur Color                           1937 non-null object\n",
            "Combination of Primary and Highlight Color    3023 non-null object\n",
            "Color notes                                   182 non-null object\n",
            "Location                                      2959 non-null object\n",
            "Above Ground Sighter Measurement              2909 non-null object\n",
            "Specific Location                             476 non-null object\n",
            "Running                                       3023 non-null bool\n",
            "Chasing                                       3023 non-null bool\n",
            "Climbing                                      3023 non-null bool\n",
            "Eating                                        3023 non-null bool\n",
            "Foraging                                      3023 non-null bool\n",
            "Other Activities                              437 non-null object\n",
            "Kuks                                          3023 non-null bool\n",
            "Quaas                                         3023 non-null bool\n",
            "Moans                                         3023 non-null bool\n",
            "Tail flags                                    3023 non-null bool\n",
            "Tail twitches                                 3023 non-null bool\n",
            "Approaches                                    3023 non-null bool\n",
            "Indifferent                                   3023 non-null bool\n",
            "Runs from                                     3023 non-null bool\n",
            "Other Interactions                            240 non-null object\n",
            "Lat/Long                                      3023 non-null object\n",
            "Zip Codes                                     9 non-null float64\n",
            "Community Districts                           3023 non-null int64\n",
            "Borough Boundaries                            3023 non-null int64\n",
            "City Council Districts                        3023 non-null int64\n",
            "Police Precincts                              3023 non-null int64\n",
            "dtypes: bool(13), float64(3), int64(6), object(14)\n",
            "memory usage: 581.7+ KB\n"
          ],
          "name": "stdout"
        },
        {
          "output_type": "execute_result",
          "data": {
            "text/html": [
              "<div>\n",
              "<style scoped>\n",
              "    .dataframe tbody tr th:only-of-type {\n",
              "        vertical-align: middle;\n",
              "    }\n",
              "\n",
              "    .dataframe tbody tr th {\n",
              "        vertical-align: top;\n",
              "    }\n",
              "\n",
              "    .dataframe thead th {\n",
              "        text-align: right;\n",
              "    }\n",
              "</style>\n",
              "<table border=\"1\" class=\"dataframe\">\n",
              "  <thead>\n",
              "    <tr style=\"text-align: right;\">\n",
              "      <th></th>\n",
              "      <th>X</th>\n",
              "      <th>Y</th>\n",
              "      <th>Unique Squirrel ID</th>\n",
              "      <th>Hectare</th>\n",
              "      <th>Shift</th>\n",
              "      <th>Date</th>\n",
              "      <th>Hectare Squirrel Number</th>\n",
              "      <th>Age</th>\n",
              "      <th>Primary Fur Color</th>\n",
              "      <th>Highlight Fur Color</th>\n",
              "      <th>Combination of Primary and Highlight Color</th>\n",
              "      <th>Color notes</th>\n",
              "      <th>Location</th>\n",
              "      <th>Above Ground Sighter Measurement</th>\n",
              "      <th>Specific Location</th>\n",
              "      <th>Running</th>\n",
              "      <th>Chasing</th>\n",
              "      <th>Climbing</th>\n",
              "      <th>Eating</th>\n",
              "      <th>Foraging</th>\n",
              "      <th>Other Activities</th>\n",
              "      <th>Kuks</th>\n",
              "      <th>Quaas</th>\n",
              "      <th>Moans</th>\n",
              "      <th>Tail flags</th>\n",
              "      <th>Tail twitches</th>\n",
              "      <th>Approaches</th>\n",
              "      <th>Indifferent</th>\n",
              "      <th>Runs from</th>\n",
              "      <th>Other Interactions</th>\n",
              "      <th>Lat/Long</th>\n",
              "      <th>Zip Codes</th>\n",
              "      <th>Community Districts</th>\n",
              "      <th>Borough Boundaries</th>\n",
              "      <th>City Council Districts</th>\n",
              "      <th>Police Precincts</th>\n",
              "    </tr>\n",
              "  </thead>\n",
              "  <tbody>\n",
              "    <tr>\n",
              "      <th>0</th>\n",
              "      <td>-73.956134</td>\n",
              "      <td>40.794082</td>\n",
              "      <td>37F-PM-1014-03</td>\n",
              "      <td>37F</td>\n",
              "      <td>PM</td>\n",
              "      <td>10142018</td>\n",
              "      <td>3</td>\n",
              "      <td>NaN</td>\n",
              "      <td>NaN</td>\n",
              "      <td>NaN</td>\n",
              "      <td>+</td>\n",
              "      <td>NaN</td>\n",
              "      <td>NaN</td>\n",
              "      <td>NaN</td>\n",
              "      <td>NaN</td>\n",
              "      <td>False</td>\n",
              "      <td>False</td>\n",
              "      <td>False</td>\n",
              "      <td>False</td>\n",
              "      <td>False</td>\n",
              "      <td>NaN</td>\n",
              "      <td>False</td>\n",
              "      <td>False</td>\n",
              "      <td>False</td>\n",
              "      <td>False</td>\n",
              "      <td>False</td>\n",
              "      <td>False</td>\n",
              "      <td>False</td>\n",
              "      <td>False</td>\n",
              "      <td>NaN</td>\n",
              "      <td>POINT (-73.9561344937861 40.7940823884086)</td>\n",
              "      <td>NaN</td>\n",
              "      <td>19</td>\n",
              "      <td>4</td>\n",
              "      <td>19</td>\n",
              "      <td>13</td>\n",
              "    </tr>\n",
              "    <tr>\n",
              "      <th>1</th>\n",
              "      <td>-73.957044</td>\n",
              "      <td>40.794851</td>\n",
              "      <td>37E-PM-1006-03</td>\n",
              "      <td>37E</td>\n",
              "      <td>PM</td>\n",
              "      <td>10062018</td>\n",
              "      <td>3</td>\n",
              "      <td>Adult</td>\n",
              "      <td>Gray</td>\n",
              "      <td>Cinnamon</td>\n",
              "      <td>Gray+Cinnamon</td>\n",
              "      <td>NaN</td>\n",
              "      <td>Ground Plane</td>\n",
              "      <td>FALSE</td>\n",
              "      <td>NaN</td>\n",
              "      <td>True</td>\n",
              "      <td>False</td>\n",
              "      <td>False</td>\n",
              "      <td>False</td>\n",
              "      <td>False</td>\n",
              "      <td>NaN</td>\n",
              "      <td>False</td>\n",
              "      <td>False</td>\n",
              "      <td>False</td>\n",
              "      <td>False</td>\n",
              "      <td>False</td>\n",
              "      <td>False</td>\n",
              "      <td>False</td>\n",
              "      <td>True</td>\n",
              "      <td>me</td>\n",
              "      <td>POINT (-73.9570437717691 40.794850940803904)</td>\n",
              "      <td>NaN</td>\n",
              "      <td>19</td>\n",
              "      <td>4</td>\n",
              "      <td>19</td>\n",
              "      <td>13</td>\n",
              "    </tr>\n",
              "    <tr>\n",
              "      <th>2</th>\n",
              "      <td>-73.976831</td>\n",
              "      <td>40.766718</td>\n",
              "      <td>2E-AM-1010-03</td>\n",
              "      <td>02E</td>\n",
              "      <td>AM</td>\n",
              "      <td>10102018</td>\n",
              "      <td>3</td>\n",
              "      <td>Adult</td>\n",
              "      <td>Cinnamon</td>\n",
              "      <td>NaN</td>\n",
              "      <td>Cinnamon+</td>\n",
              "      <td>NaN</td>\n",
              "      <td>Above Ground</td>\n",
              "      <td>4</td>\n",
              "      <td>NaN</td>\n",
              "      <td>False</td>\n",
              "      <td>False</td>\n",
              "      <td>True</td>\n",
              "      <td>False</td>\n",
              "      <td>False</td>\n",
              "      <td>NaN</td>\n",
              "      <td>False</td>\n",
              "      <td>False</td>\n",
              "      <td>False</td>\n",
              "      <td>False</td>\n",
              "      <td>False</td>\n",
              "      <td>False</td>\n",
              "      <td>True</td>\n",
              "      <td>False</td>\n",
              "      <td>NaN</td>\n",
              "      <td>POINT (-73.9768311751004 40.76671780725581)</td>\n",
              "      <td>NaN</td>\n",
              "      <td>19</td>\n",
              "      <td>4</td>\n",
              "      <td>19</td>\n",
              "      <td>13</td>\n",
              "    </tr>\n",
              "    <tr>\n",
              "      <th>3</th>\n",
              "      <td>-73.975725</td>\n",
              "      <td>40.769703</td>\n",
              "      <td>5D-PM-1018-05</td>\n",
              "      <td>05D</td>\n",
              "      <td>PM</td>\n",
              "      <td>10182018</td>\n",
              "      <td>5</td>\n",
              "      <td>Juvenile</td>\n",
              "      <td>Gray</td>\n",
              "      <td>NaN</td>\n",
              "      <td>Gray+</td>\n",
              "      <td>NaN</td>\n",
              "      <td>Above Ground</td>\n",
              "      <td>3</td>\n",
              "      <td>NaN</td>\n",
              "      <td>False</td>\n",
              "      <td>False</td>\n",
              "      <td>True</td>\n",
              "      <td>False</td>\n",
              "      <td>False</td>\n",
              "      <td>NaN</td>\n",
              "      <td>False</td>\n",
              "      <td>False</td>\n",
              "      <td>False</td>\n",
              "      <td>False</td>\n",
              "      <td>False</td>\n",
              "      <td>False</td>\n",
              "      <td>False</td>\n",
              "      <td>True</td>\n",
              "      <td>NaN</td>\n",
              "      <td>POINT (-73.9757249834141 40.7697032606755)</td>\n",
              "      <td>NaN</td>\n",
              "      <td>19</td>\n",
              "      <td>4</td>\n",
              "      <td>19</td>\n",
              "      <td>13</td>\n",
              "    </tr>\n",
              "    <tr>\n",
              "      <th>4</th>\n",
              "      <td>-73.959313</td>\n",
              "      <td>40.797533</td>\n",
              "      <td>39B-AM-1018-01</td>\n",
              "      <td>39B</td>\n",
              "      <td>AM</td>\n",
              "      <td>10182018</td>\n",
              "      <td>1</td>\n",
              "      <td>NaN</td>\n",
              "      <td>NaN</td>\n",
              "      <td>NaN</td>\n",
              "      <td>+</td>\n",
              "      <td>NaN</td>\n",
              "      <td>Above Ground</td>\n",
              "      <td>NaN</td>\n",
              "      <td>NaN</td>\n",
              "      <td>False</td>\n",
              "      <td>False</td>\n",
              "      <td>False</td>\n",
              "      <td>False</td>\n",
              "      <td>False</td>\n",
              "      <td>unknown</td>\n",
              "      <td>True</td>\n",
              "      <td>False</td>\n",
              "      <td>False</td>\n",
              "      <td>False</td>\n",
              "      <td>False</td>\n",
              "      <td>False</td>\n",
              "      <td>False</td>\n",
              "      <td>False</td>\n",
              "      <td>NaN</td>\n",
              "      <td>POINT (-73.9593126695714 40.797533370163)</td>\n",
              "      <td>NaN</td>\n",
              "      <td>19</td>\n",
              "      <td>4</td>\n",
              "      <td>19</td>\n",
              "      <td>13</td>\n",
              "    </tr>\n",
              "  </tbody>\n",
              "</table>\n",
              "</div>"
            ],
            "text/plain": [
              "           X          Y  ... City Council Districts Police Precincts\n",
              "0 -73.956134  40.794082  ...                     19               13\n",
              "1 -73.957044  40.794851  ...                     19               13\n",
              "2 -73.976831  40.766718  ...                     19               13\n",
              "3 -73.975725  40.769703  ...                     19               13\n",
              "4 -73.959313  40.797533  ...                     19               13\n",
              "\n",
              "[5 rows x 36 columns]"
            ]
          },
          "metadata": {
            "tags": []
          },
          "execution_count": 4
        }
      ]
    },
    {
      "cell_type": "markdown",
      "metadata": {
        "id": "UDhUdOpwDEdE",
        "colab_type": "text"
      },
      "source": [
        "Primary Fur Color has some null values, so I'll have to exclude those from the analysis."
      ]
    },
    {
      "cell_type": "code",
      "metadata": {
        "id": "ybyCgV_AC59R",
        "colab_type": "code",
        "outputId": "93b0ccd0-5ea3-425f-921c-4d8dd9cac013",
        "colab": {
          "base_uri": "https://localhost:8080/",
          "height": 363
        }
      },
      "source": [
        "# Get the relevant columns with only rows that have non-null values for fur color\n",
        "# and rename the columns to fit with Python naming conventions.\n",
        "\n",
        "squirrels_trimmed = squirrels.rename(columns={'Primary Fur Color': 'primary_fur_color', 'Approaches': 'approaches', 'Indifferent': 'indifferent', 'Runs from': 'runs_from'})[['primary_fur_color', 'approaches', 'indifferent', 'runs_from']].dropna()\n",
        "print(squirrels_trimmed.info())\n",
        "squirrels_trimmed.head()"
      ],
      "execution_count": 0,
      "outputs": [
        {
          "output_type": "stream",
          "text": [
            "<class 'pandas.core.frame.DataFrame'>\n",
            "Int64Index: 2968 entries, 1 to 3022\n",
            "Data columns (total 4 columns):\n",
            "primary_fur_color    2968 non-null object\n",
            "approaches           2968 non-null bool\n",
            "indifferent          2968 non-null bool\n",
            "runs_from            2968 non-null bool\n",
            "dtypes: bool(3), object(1)\n",
            "memory usage: 55.1+ KB\n",
            "None\n"
          ],
          "name": "stdout"
        },
        {
          "output_type": "execute_result",
          "data": {
            "text/html": [
              "<div>\n",
              "<style scoped>\n",
              "    .dataframe tbody tr th:only-of-type {\n",
              "        vertical-align: middle;\n",
              "    }\n",
              "\n",
              "    .dataframe tbody tr th {\n",
              "        vertical-align: top;\n",
              "    }\n",
              "\n",
              "    .dataframe thead th {\n",
              "        text-align: right;\n",
              "    }\n",
              "</style>\n",
              "<table border=\"1\" class=\"dataframe\">\n",
              "  <thead>\n",
              "    <tr style=\"text-align: right;\">\n",
              "      <th></th>\n",
              "      <th>primary_fur_color</th>\n",
              "      <th>approaches</th>\n",
              "      <th>indifferent</th>\n",
              "      <th>runs_from</th>\n",
              "    </tr>\n",
              "  </thead>\n",
              "  <tbody>\n",
              "    <tr>\n",
              "      <th>1</th>\n",
              "      <td>Gray</td>\n",
              "      <td>False</td>\n",
              "      <td>False</td>\n",
              "      <td>True</td>\n",
              "    </tr>\n",
              "    <tr>\n",
              "      <th>2</th>\n",
              "      <td>Cinnamon</td>\n",
              "      <td>False</td>\n",
              "      <td>True</td>\n",
              "      <td>False</td>\n",
              "    </tr>\n",
              "    <tr>\n",
              "      <th>3</th>\n",
              "      <td>Gray</td>\n",
              "      <td>False</td>\n",
              "      <td>False</td>\n",
              "      <td>True</td>\n",
              "    </tr>\n",
              "    <tr>\n",
              "      <th>5</th>\n",
              "      <td>Gray</td>\n",
              "      <td>False</td>\n",
              "      <td>False</td>\n",
              "      <td>False</td>\n",
              "    </tr>\n",
              "    <tr>\n",
              "      <th>6</th>\n",
              "      <td>Gray</td>\n",
              "      <td>False</td>\n",
              "      <td>True</td>\n",
              "      <td>False</td>\n",
              "    </tr>\n",
              "  </tbody>\n",
              "</table>\n",
              "</div>"
            ],
            "text/plain": [
              "  primary_fur_color  approaches  indifferent  runs_from\n",
              "1              Gray       False        False       True\n",
              "2          Cinnamon       False         True      False\n",
              "3              Gray       False        False       True\n",
              "5              Gray       False        False      False\n",
              "6              Gray       False         True      False"
            ]
          },
          "metadata": {
            "tags": []
          },
          "execution_count": 5
        }
      ]
    },
    {
      "cell_type": "code",
      "metadata": {
        "id": "JdJ582lIGApf",
        "colab_type": "code",
        "outputId": "3089df21-6e05-4883-b9ef-6f658b06174c",
        "colab": {
          "base_uri": "https://localhost:8080/",
          "height": 424
        }
      },
      "source": [
        "# Get the unique values for Primary Fur Color and check the distribution.\n",
        "\n",
        "print(squirrels_trimmed['primary_fur_color'].unique(),'\\n')\n",
        "print(squirrels_trimmed['primary_fur_color'].value_counts())\n",
        "squirrels_trimmed['primary_fur_color'].value_counts().plot(kind='bar', x='primary_fur_color', y='count', color='teal')"
      ],
      "execution_count": 0,
      "outputs": [
        {
          "output_type": "stream",
          "text": [
            "['Gray' 'Cinnamon' 'Black'] \n",
            "\n",
            "Gray        2473\n",
            "Cinnamon     392\n",
            "Black        103\n",
            "Name: primary_fur_color, dtype: int64\n"
          ],
          "name": "stdout"
        },
        {
          "output_type": "execute_result",
          "data": {
            "text/plain": [
              "<matplotlib.axes._subplots.AxesSubplot at 0x7f27d2d74b70>"
            ]
          },
          "metadata": {
            "tags": []
          },
          "execution_count": 6
        },
        {
          "output_type": "display_data",
          "data": {
            "image/png": "[encoded data removed]",
            "text/plain": [
              "<Figure size 432x288 with 1 Axes>"
            ]
          },
          "metadata": {
            "tags": []
          }
        }
      ]
    },
    {
      "cell_type": "markdown",
      "metadata": {
        "id": "XiGItQWyGHag",
        "colab_type": "text"
      },
      "source": [
        "Now that I've dropped the null values from the primary_fur_color, I can see that there are three unique values: gray, cinnamon, and black. I've also gotten the counts of each, and can see that by far, gray is the most common primary fur color. The other two are still greater than 60, however, so they easily meet the threshold for comparing means with t-tests."
      ]
    },
    {
      "cell_type": "code",
      "metadata": {
        "id": "f9EpIyr9Is6B",
        "colab_type": "code",
        "outputId": "31660ff3-a42c-4c22-b111-25ea2b9b3116",
        "colab": {
          "base_uri": "https://localhost:8080/",
          "height": 218
        }
      },
      "source": [
        "# Convert the boolean values to integer values.\n",
        "squirrels_trimmed['approaches'] = squirrels_trimmed['approaches'].astype(int)\n",
        "squirrels_trimmed['indifferent'] = squirrels_trimmed['indifferent'].astype(int)\n",
        "squirrels_trimmed['runs_from'] = squirrels_trimmed['runs_from'].astype(int)\n",
        "\n",
        "# Create separate dataframes for the different primary fur colors.\n",
        "squirrels_gray = squirrels_trimmed[squirrels_trimmed.primary_fur_color=='Gray']\n",
        "squirrels_cinnamon = squirrels_trimmed[squirrels_trimmed.primary_fur_color=='Cinnamon']\n",
        "squirrels_black = squirrels_trimmed[squirrels_trimmed.primary_fur_color=='Black']\n",
        "\n",
        "# Get the means of each metric for each of the primary fur colors.\n",
        "print('The mean of \"approaches\" for gray-colored squirrels is {}.'.format(squirrels_gray['approaches'].mean()))\n",
        "print('The mean of \"indifferent\" for gray-colored squirrels is {}.'.format(squirrels_gray['indifferent'].mean()))\n",
        "print('The mean of \"runs_from\" for gray-colored squirrels is {}.\\n'.format(squirrels_gray['runs_from'].mean()))\n",
        "\n",
        "print('The mean of \"approaches\" for cinnamon-colored squirrels is {}.'.format(squirrels_cinnamon['approaches'].mean()))\n",
        "print('The mean of \"indifferent\" for cinnamon-colored squirrels is {}.'.format(squirrels_cinnamon['indifferent'].mean()))\n",
        "print('The mean of \"runs_from\" for cinnamon-colored squirrels is {}.\\n'.format(squirrels_cinnamon['runs_from'].mean()))\n",
        "\n",
        "print('The mean of \"approaches\" for black-colored squirrels is {}.'.format(squirrels_black['approaches'].mean()))\n",
        "print('The mean of \"indifferent\" for black-colored squirrels is {}.'.format(squirrels_black['indifferent'].mean()))\n",
        "print('The mean of \"runs_from\" for black-colored squirrels is {}.\\n'.format(squirrels_black['runs_from'].mean()))"
      ],
      "execution_count": 0,
      "outputs": [
        {
          "output_type": "stream",
          "text": [
            "The mean of \"approaches\" for gray-colored squirrels is 0.0509502628386575.\n",
            "The mean of \"indifferent\" for gray-colored squirrels is 0.492923574605742.\n",
            "The mean of \"runs_from\" for gray-colored squirrels is 0.22280630812778002.\n",
            "\n",
            "The mean of \"approaches\" for cinnamon-colored squirrels is 0.11224489795918367.\n",
            "The mean of \"indifferent\" for cinnamon-colored squirrels is 0.461734693877551.\n",
            "The mean of \"runs_from\" for cinnamon-colored squirrels is 0.22193877551020408.\n",
            "\n",
            "The mean of \"approaches\" for black-colored squirrels is 0.05825242718446602.\n",
            "The mean of \"indifferent\" for black-colored squirrels is 0.42718446601941745.\n",
            "The mean of \"runs_from\" for black-colored squirrels is 0.3106796116504854.\n",
            "\n"
          ],
          "name": "stdout"
        }
      ]
    },
    {
      "cell_type": "markdown",
      "metadata": {
        "id": "7ObnoZ6a-aAS",
        "colab_type": "text"
      },
      "source": [
        "Interestingly, at first glance, it appears as though cinnamon-colored squirrels are the most likely to approach humans, and black-colored squirrels are most likely to run away. Now I'll perform the t-tests to check for statistical significance."
      ]
    },
    {
      "cell_type": "code",
      "metadata": {
        "id": "QaClDTan-pgW",
        "colab_type": "code",
        "outputId": "4f72ca56-07e3-4533-d804-452de392e920",
        "colab": {
          "base_uri": "https://localhost:8080/",
          "height": 218
        }
      },
      "source": [
        "print(stats.ttest_ind(squirrels_gray['approaches'], squirrels_cinnamon['approaches']))\n",
        "print(stats.ttest_ind(squirrels_gray['approaches'], squirrels_black['approaches']))\n",
        "print(stats.ttest_ind(squirrels_cinnamon['approaches'], squirrels_black['approaches']),'\\n')\n",
        "\n",
        "print(stats.ttest_ind(squirrels_gray['indifferent'], squirrels_cinnamon['indifferent']))\n",
        "print(stats.ttest_ind(squirrels_gray['indifferent'], squirrels_black['indifferent']))\n",
        "print(stats.ttest_ind(squirrels_cinnamon['indifferent'], squirrels_black['indifferent']),'\\n')\n",
        "\n",
        "print(stats.ttest_ind(squirrels_gray['runs_from'], squirrels_cinnamon['runs_from']))\n",
        "print(stats.ttest_ind(squirrels_gray['runs_from'], squirrels_black['runs_from']))\n",
        "print(stats.ttest_ind(squirrels_cinnamon['runs_from'], squirrels_black['runs_from']),'\\n')"
      ],
      "execution_count": 0,
      "outputs": [
        {
          "output_type": "stream",
          "text": [
            "Ttest_indResult(statistic=-4.7898015991318825, pvalue=1.7544319563793358e-06)\n",
            "Ttest_indResult(statistic=-0.32919870705239435, pvalue=0.7420322831634318)\n",
            "Ttest_indResult(statistic=1.6192170506268366, pvalue=0.1060400642763622) \n",
            "\n",
            "Ttest_indResult(statistic=1.1475789849396745, pvalue=0.2512382932225437)\n",
            "Ttest_indResult(statistic=1.3075819163109048, pvalue=0.19113193070132273)\n",
            "Ttest_indResult(statistic=0.6256554441686302, pvalue=0.5318304839011243) \n",
            "\n",
            "Ttest_indResult(statistic=0.03834257199787577, pvalue=0.9694172214307728)\n",
            "Ttest_indResult(statistic=-2.0891607682656534, pvalue=0.03679123430135579)\n",
            "Ttest_indResult(statistic=-1.878407495470714, pvalue=0.06091533773539373) \n",
            "\n"
          ],
          "name": "stdout"
        }
      ]
    },
    {
      "cell_type": "code",
      "metadata": {
        "id": "7yRrdpuQUNWt",
        "colab_type": "code",
        "outputId": "251f843a-0e7d-4420-9d47-b4511cec5f7f",
        "colab": {
          "base_uri": "https://localhost:8080/",
          "height": 50
        }
      },
      "source": [
        "def get_95_ci(array_1, array_2):\n",
        "    sample_1_n = array_1.shape[0]\n",
        "    sample_2_n = array_2.shape[0]\n",
        "    sample_1_mean = array_1.mean()\n",
        "    sample_2_mean = array_2.mean()\n",
        "    sample_1_var = array_1.var()\n",
        "    sample_2_var = array_2.var()\n",
        "    mean_difference = sample_2_mean - sample_1_mean\n",
        "    std_err_difference = math.sqrt((sample_1_var/sample_1_n)+(sample_2_var/sample_2_n))\n",
        "    margin_of_error = 1.96 * std_err_difference\n",
        "    ci_lower = mean_difference - margin_of_error\n",
        "    ci_upper = mean_difference + margin_of_error\n",
        "    return(\"The difference in means at the 95% confidence interval (two-tail) is between \"+str(ci_lower)+\" and \"+str(ci_upper)+\".\")\n",
        "\n",
        "print(get_95_ci(squirrels_gray['approaches'], squirrels_cinnamon['approaches']))\n",
        "print(get_95_ci(squirrels_gray['runs_from'], squirrels_black['runs_from']))"
      ],
      "execution_count": 0,
      "outputs": [
        {
          "output_type": "stream",
          "text": [
            "The difference in means at the 95% confidence interval (two-tail) is between 0.02882660533508119 and 0.09376266490597115.\n",
            "The difference in means at the 95% confidence interval (two-tail) is between -0.00342223002253092 and 0.1791688370679417.\n"
          ],
          "name": "stdout"
        }
      ]
    },
    {
      "cell_type": "markdown",
      "metadata": {
        "id": "0IuHgo8OGmSu",
        "colab_type": "text"
      },
      "source": [
        "From the series of pairwise t-tests, we can see that at the 0.05 significance level, there are differences between gray-colored and cinnamon-colored squirrels in their propensity to approach humans, and between gray-colored and black-colored squirrels in their propensity to run away from humans, but there are no significant differences between any of the other groups in any of the other categories. Generating 95% confidence intervals, however, shows that there is not a difference between gray- and black-colored squirrels with regard to their propensity to run away from humans, so it appears that we only have evidence between the gray- and cinnamon-colored squirrels with regard to their willingness to approach humans."
      ]
    },
    {
      "cell_type": "markdown",
      "metadata": {
        "id": "Yz9_deqQMfcA",
        "colab_type": "text"
      },
      "source": [
        "## **What does this mean?**\n",
        "\n",
        "There may be differences in the general population of Eastern gray squirrels as to how willing they are to approach humans depending on their fur color. The statistical tests show that there are reasons to believe that Eastern gray squirrels with a primary fur color of gray are more likely to approach humans than those with cinnamon as a primary fur color, and this may be due to some selection pressures based on the environment and how it interacts with their primary fur colors. On the other hand, it could be due to issues with the way the data was collected, since there were rows where all three values were false, which doesn't seem logically possible. It may be worth looking into further, just to make sure that the differences weren't due to anomalies in the data collection methods, but it seems like it would be pretty far down in priority."
      ]
    }
  ]
}